{
 "metadata": {
  "language_info": {
   "codemirror_mode": {
    "name": "ipython",
    "version": 3
   },
   "file_extension": ".py",
   "mimetype": "text/x-python",
   "name": "python",
   "nbconvert_exporter": "python",
   "pygments_lexer": "ipython3",
   "version": "3.7.4-final"
  },
  "orig_nbformat": 2,
  "kernelspec": {
   "name": "python3",
   "display_name": "Python 3.7.4 64-bit ('anaconda3': virtualenv)",
   "metadata": {
    "interpreter": {
     "hash": "9d248ad1115f2a4453f7a37f0dff78ab414b74708540b64a7ed5b44c60bd298d"
    }
   }
  }
 },
 "nbformat": 4,
 "nbformat_minor": 2,
 "cells": [
  {
   "source": [
    "### 3. Slicing - BW fixed. 20 MHz. 50% RBs used for power grid.\n",
    "#### Numerology 0 = 51 RBs, Numerology 1 = 25 RBs, Numerology 2 = 11 RBs"
   ],
   "cell_type": "markdown",
   "metadata": {}
  }
 ]
}