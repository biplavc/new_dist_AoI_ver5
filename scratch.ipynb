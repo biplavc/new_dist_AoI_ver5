{
 "metadata": {
  "language_info": {
   "codemirror_mode": {
    "name": "ipython",
    "version": 3
   },
   "file_extension": ".py",
   "mimetype": "text/x-python",
   "name": "python",
   "nbconvert_exporter": "python",
   "pygments_lexer": "ipython3",
   "version": "3.7.4-final"
  },
  "orig_nbformat": 2,
  "kernelspec": {
   "name": "python3",
   "display_name": "Python 3.7.4 64-bit ('base': conda)",
   "metadata": {
    "interpreter": {
     "hash": "9d248ad1115f2a4453f7a37f0dff78ab414b74708540b64a7ed5b44c60bd298d"
    }
   }
  }
 },
 "nbformat": 4,
 "nbformat_minor": 2,
 "cells": [
  {
   "cell_type": "code",
   "execution_count": 20,
   "metadata": {},
   "outputs": [
    {
     "output_type": "execute_result",
     "data": {
      "text/plain": [
       "8.8772251968"
      ]
     },
     "metadata": {},
     "execution_count": 20
    }
   ],
   "source": [
    "10**(-6)*8*8*8*1.0*(948/1024)*(12*(1*14.2**2)*(10^3))*(1-0.14)"
   ]
  },
  {
   "source": [
    "    10^{-6} \\sum_{j=1}^{J} (v_{\\text{Layers}}^{(j)}Q_{m}^{(j)}f^{(j)}R_{\\text{max}}\\frac{12N_{PRB}^{BW(j),\\mu}}{T_{s}^{\\mu}}(1-OH^{j}))\n"
   ],
   "cell_type": "markdown",
   "metadata": {}
  }
 ]
}