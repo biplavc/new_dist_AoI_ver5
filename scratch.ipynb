{
 "metadata": {
  "language_info": {
   "codemirror_mode": {
    "name": "ipython",
    "version": 3
   },
   "file_extension": ".py",
   "mimetype": "text/x-python",
   "name": "python",
   "nbconvert_exporter": "python",
   "pygments_lexer": "ipython3",
   "version": "3.7.4-final"
  },
  "orig_nbformat": 2,
  "kernelspec": {
   "name": "python3",
   "display_name": "Python 3.7.4 64-bit ('base': conda)",
   "metadata": {
    "interpreter": {
     "hash": "9d248ad1115f2a4453f7a37f0dff78ab414b74708540b64a7ed5b44c60bd298d"
    }
   }
  }
 },
 "nbformat": 4,
 "nbformat_minor": 2,
 "cells": [
  {
   "cell_type": "code",
   "execution_count": 6,
   "metadata": {},
   "outputs": [
    {
     "output_type": "stream",
     "name": "stdout",
     "text": [
      "1\n"
     ]
    }
   ],
   "source": [
    "random_episodes = 1\n",
    "log_interval_random = 1 if random_episodes<5 else random_episodes//5\n",
    "print(log_interval_random)"
   ]
  },
  {
   "cell_type": "code",
   "execution_count": 2,
   "metadata": {},
   "outputs": [
    {
     "output_type": "execute_result",
     "data": {
      "text/plain": [
       "[0,\n",
       " 0.125,\n",
       " 0.25,\n",
       " 0.375,\n",
       " 0.5,\n",
       " 0.625,\n",
       " 0.75,\n",
       " 0.875,\n",
       " 1.0,\n",
       " 1.125,\n",
       " 1.25,\n",
       " 1.375,\n",
       " 1.5,\n",
       " 1.625,\n",
       " 1.75,\n",
       " 1.875,\n",
       " 2.0,\n",
       " 2.125,\n",
       " 2.25,\n",
       " 2.375,\n",
       " 2.5,\n",
       " 2.625,\n",
       " 2.75,\n",
       " 2.875,\n",
       " 3.0,\n",
       " 3.125,\n",
       " 3.25,\n",
       " 3.375,\n",
       " 3.5,\n",
       " 3.625,\n",
       " 3.75,\n",
       " 3.875,\n",
       " 4.0,\n",
       " 4.125,\n",
       " 4.25,\n",
       " 4.375,\n",
       " 4.5,\n",
       " 4.625,\n",
       " 4.75,\n",
       " 4.875]"
      ]
     },
     "metadata": {},
     "execution_count": 2
    }
   ],
   "source": [
    "TTIs"
   ]
  }
 ]
}